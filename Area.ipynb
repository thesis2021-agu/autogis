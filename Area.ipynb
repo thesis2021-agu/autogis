{
 "cells": [
  {
   "cell_type": "markdown",
   "metadata": {},
   "source": [
    "ここでは，町田市内のイタリアンレストランから一定距離内にある人口を計算する。\n",
    "\n",
    "まず，レストランの位置を記述したファイルから，住所を読み込む。そして，それらの所在地に対してPointを生成し，その結果をgeojsonファイルとして保存する。\n",
    "\n"
   ]
  },
  {
   "cell_type": "code",
   "execution_count": 1,
   "metadata": {},
   "outputs": [],
   "source": [
    "import pandas as pd \n",
    "data=pd.read_csv(\"data/italian_rest_machida.txt\",sep=\";\")"
   ]
  },
  {
   "cell_type": "code",
   "execution_count": 2,
   "metadata": {},
   "outputs": [
    {
     "data": {
      "text/html": [
       "<div>\n",
       "<style scoped>\n",
       "    .dataframe tbody tr th:only-of-type {\n",
       "        vertical-align: middle;\n",
       "    }\n",
       "\n",
       "    .dataframe tbody tr th {\n",
       "        vertical-align: top;\n",
       "    }\n",
       "\n",
       "    .dataframe thead th {\n",
       "        text-align: right;\n",
       "    }\n",
       "</style>\n",
       "<table border=\"1\" class=\"dataframe\">\n",
       "  <thead>\n",
       "    <tr style=\"text-align: right;\">\n",
       "      <th></th>\n",
       "      <th>id</th>\n",
       "      <th>name</th>\n",
       "      <th>addr</th>\n",
       "    </tr>\n",
       "  </thead>\n",
       "  <tbody>\n",
       "    <tr>\n",
       "      <th>0</th>\n",
       "      <td>0</td>\n",
       "      <td>minami-naruse</td>\n",
       "      <td>東京都町田市南成瀬2-7-1</td>\n",
       "    </tr>\n",
       "    <tr>\n",
       "      <th>1</th>\n",
       "      <td>1</td>\n",
       "      <td>kanai</td>\n",
       "      <td>東京都町田市金井ケ丘2-24-16</td>\n",
       "    </tr>\n",
       "    <tr>\n",
       "      <th>2</th>\n",
       "      <td>2</td>\n",
       "      <td>tadao</td>\n",
       "      <td>東京都町田市木曽西2-17-20</td>\n",
       "    </tr>\n",
       "    <tr>\n",
       "      <th>3</th>\n",
       "      <td>3</td>\n",
       "      <td>tips-machida</td>\n",
       "      <td>東京都町田市原町田6-7-8</td>\n",
       "    </tr>\n",
       "    <tr>\n",
       "      <th>4</th>\n",
       "      <td>4</td>\n",
       "      <td>tsurukawa</td>\n",
       "      <td>東京都町田市能ヶ谷1-3-2</td>\n",
       "    </tr>\n",
       "  </tbody>\n",
       "</table>\n",
       "</div>"
      ],
      "text/plain": [
       "   id           name               addr\n",
       "0   0  minami-naruse     東京都町田市南成瀬2-7-1\n",
       "1   1          kanai  東京都町田市金井ケ丘2-24-16\n",
       "2   2          tadao   東京都町田市木曽西2-17-20\n",
       "3   3   tips-machida     東京都町田市原町田6-7-8\n",
       "4   4      tsurukawa     東京都町田市能ヶ谷1-3-2"
      ]
     },
     "execution_count": 2,
     "metadata": {},
     "output_type": "execute_result"
    }
   ],
   "source": [
    "data"
   ]
  },
  {
   "cell_type": "code",
   "execution_count": 3,
   "metadata": {},
   "outputs": [],
   "source": [
    "import geopandas as gpd\n",
    "from geopy.geocoders import Nominatim\n",
    "from shapely.geometry import Point\n",
    "\n",
    "geolocator = Nominatim(user_agent=\"test-dayo\")\n",
    "data['gcode']=data.addr.apply(geolocator.geocode)\n"
   ]
  },
  {
   "cell_type": "code",
   "execution_count": null,
   "metadata": {},
   "outputs": [],
   "source": [
    "data['coords']=[(g.longitude,g.latitude) for g in data['gcode']] \n",
    "data['geometry']=data['coords'].apply(Point)"
   ]
  },
  {
   "cell_type": "code",
   "execution_count": null,
   "metadata": {},
   "outputs": [],
   "source": [
    "data"
   ]
  },
  {
   "cell_type": "code",
   "execution_count": null,
   "metadata": {},
   "outputs": [],
   "source": [
    "gdata=gpd.GeoDataFrame(data)\n",
    "gdata.set_crs(\"EPSG:6668\")\n"
   ]
  },
  {
   "cell_type": "code",
   "execution_count": null,
   "metadata": {},
   "outputs": [],
   "source": [
    "gdata['geometry'].plot()"
   ]
  },
  {
   "cell_type": "code",
   "execution_count": null,
   "metadata": {},
   "outputs": [],
   "source": [
    "tokyofp=\"data/N03-190101_13_GML/N03-19_13_190101.geojson\"\n",
    "tokyo=gpd.read_file(tokyofp)\n",
    "tokyo.columns"
   ]
  },
  {
   "cell_type": "code",
   "execution_count": null,
   "metadata": {},
   "outputs": [],
   "source": [
    "machida=tokyo[tokyo[\"N03_004\"]==\"町田市\"]\n",
    "machida=machida.reset_index(drop=True)\n",
    "import matplotlib.pyplot as plt\n",
    "fig,ax=plt.subplots(1,1)\n",
    "machida.boundary.plot(ax=ax)\n",
    "gdata['geometry'] = gdata['geometry'].set_crs(\"EPSG:6668\")\n",
    "gdata['geometry'].plot(ax=ax)"
   ]
  },
  {
   "cell_type": "code",
   "execution_count": null,
   "metadata": {},
   "outputs": [],
   "source": [
    "machida"
   ]
  },
  {
   "cell_type": "markdown",
   "metadata": {},
   "source": [
    "人口データをみよこむ。　各カラムの表すデータは次のものである。\n",
    "\n",
    "MESH_ID - - - メッシュコード\n",
    "\n",
    "SHICODE 2018年 - - 市町村コード\n",
    "\n",
    "PTN_2015 2015年 男女計 総数 人口\n",
    "\n",
    "PMN_2015 2015年 男 総数 人口\n",
    "\n",
    "PFN_2015 2015年 女 総数 人口\n",
    "\n",
    "PTN_2020 2020年 男女計 総数 人口（秘匿なし）"
   ]
  },
  {
   "cell_type": "code",
   "execution_count": null,
   "metadata": {},
   "outputs": [],
   "source": [
    "popfp=\"data/500m_mesh_suikei_2018_shape_13/500m_mesh_2018_13.shp\" #人口データ\n",
    "pop=gpd.read_file(popfp)\n",
    "pop['geometry'] = pop['geometry'].to_crs(\"EPSG:6668\")\n",
    "machida_pop=pop[pop['SHICODE']==13209] #町田の市町村コード13209"
   ]
  },
  {
   "cell_type": "code",
   "execution_count": null,
   "metadata": {},
   "outputs": [],
   "source": [
    "machida_pop"
   ]
  },
  {
   "cell_type": "markdown",
   "metadata": {},
   "source": [
    "読み込んだデータの各行は，1つのメッシュデータを表すが，列としてgeometryを持っている。したがって，表すメッシュをプロットして可視化することができる。"
   ]
  },
  {
   "cell_type": "code",
   "execution_count": null,
   "metadata": {},
   "outputs": [],
   "source": [
    "machida_pop['geometry'].boundary.plot(color=\"red\",alpha=0.4)"
   ]
  },
  {
   "cell_type": "code",
   "execution_count": null,
   "metadata": {},
   "outputs": [],
   "source": [
    "fig,ax=plt.subplots(1,1)\n",
    "machida.boundary.plot(ax=ax)\n",
    "machida_pop['geometry'].boundary.plot(ax=ax,color=\"red\",alpha=0.4)\n",
    "gdata['geometry'].plot(ax=ax,color=\"green\")"
   ]
  },
  {
   "cell_type": "markdown",
   "metadata": {},
   "source": [
    "ここでは，500mメッシュ別の人口を用いる。データには，メッシュコードを表す列MESH_IDがある。これは，ある地域を表すコードである。このコードは，表そうとする地域の緯度経度を元に設定されている。\n",
    "\n",
    "523867884 というコードを例とする。\n",
    "\n",
    "https://www.stat.go.jp/data/mesh/m_tuite.html\n",
    "\n",
    "https://home.csis.u-tokyo.ac.jp/~nishizawa/teikyo/chiiki_mesh.pdf\n",
    "\n",
    "\n",
    "地域メッシュは、緯線・経線によって囲まれたほぼ長方形の区画である。経度（東西方向）1 度、緯度（南北方向）40 分の範囲を１次メッシュという。メッシュのコード番号はメッシュの南西隅の「緯度×3/2」（2 桁）＋「経度－100」（2 桁）の 4 桁の数値とされている。 例えば，　町田市役所は北緯35.55度，東経139.44度である。35.55x1.5=53.32, 139.44-100=39.4なので， コードの最初の４桁は， 5339となる。\n",
    "\n",
    "> １次メッシュを縦横 8 等分したものを２次メッシュ（約 10km 四方）、２次メッシュを縦横 10 等分したものを３次メッシュ（約 1km 四方）という。３次メッシュは 1km メッシュとも呼ばれる。メッシュのコード番号は、１次メッシュのコード番号に、メッシュを分割するごとに、縦方向の番号と横方向の番号を付け足していく。２次メッシュは 6 桁、３次メッシュは 8 桁になる。下の図の右上の３次メッシュの番号は 53393393 となる。３次メッシュまでは JIS で定められている。 \n",
    "\n",
    "4次メッシュが500mメッシュに対応する。これは，3次メッシュをさらに緯度，経度方向に２等分したものである。"
   ]
  },
  {
   "cell_type": "markdown",
   "metadata": {},
   "source": [
    "このプロットを観察すると，町田市内の店舗は，市境に立地しているものが多く，市外からの顧客も見込める。そこで，町田に隣接する都市も加えることにする。やはり神奈川も要るので神奈川の行政区域を表すファイルを読み込む。\n",
    "\n",
    "このためには，データを町田市のものに限るのをやめて，東京都と神奈川県の全体のデータを用いる。"
   ]
  },
  {
   "cell_type": "code",
   "execution_count": null,
   "metadata": {},
   "outputs": [],
   "source": [
    "kanagawafp=\"data/N03-190101_14_GML/N03-19_14_190101.geojson\"\n",
    "kanagawa=gpd.read_file(kanagawafp)\n",
    "tokyofp=\"data/N03-190101_13_GML/N03-19_13_190101.geojson\"\n",
    "tokyo=gpd.read_file(tokyofp)"
   ]
  },
  {
   "cell_type": "code",
   "execution_count": null,
   "metadata": {},
   "outputs": [],
   "source": [
    "islands = ['大島町', '利島村', '新島村', '神津島村', '三宅村', '御蔵島村', '八丈町', '青ヶ島村', '小笠原村','所属未定地']\n",
    "is_not_islands=[tokyo['N03_004']!=island for island in islands]\n",
    "is_not_islands=pd.concat(is_not_islands,axis=1).all(axis=1)\n",
    "tokyo=tokyo.loc[is_not_islands,:]\n",
    "tokyo['N03_004'].unique()"
   ]
  },
  {
   "cell_type": "code",
   "execution_count": null,
   "metadata": {},
   "outputs": [],
   "source": [
    "tokyo.plot()"
   ]
  },
  {
   "cell_type": "code",
   "execution_count": null,
   "metadata": {},
   "outputs": [],
   "source": [
    "kanagawa.plot()"
   ]
  },
  {
   "cell_type": "markdown",
   "metadata": {},
   "source": [
    "東京都と神奈川を合わせて解析するので，2つのDataFrame, tokyo, kanagawaを結合する。"
   ]
  },
  {
   "cell_type": "code",
   "execution_count": null,
   "metadata": {},
   "outputs": [],
   "source": [
    "tokyo_kanagawa=pd.concat([tokyo,kanagawa])"
   ]
  },
  {
   "cell_type": "code",
   "execution_count": null,
   "metadata": {},
   "outputs": [],
   "source": [
    "tokyo_kanagawa.plot()"
   ]
  },
  {
   "cell_type": "markdown",
   "metadata": {},
   "source": [
    "同様に，東京と神奈川の人口データを読み込み結合する。"
   ]
  },
  {
   "cell_type": "code",
   "execution_count": null,
   "metadata": {},
   "outputs": [],
   "source": [
    "tokyo_popfp=\"data/500m_mesh_suikei_2018_shape_13/500m_mesh_2018_13.shp\" #人口データ\n",
    "tokyo_pop=gpd.read_file(tokyo_popfp)\n",
    "tokyo_pop['geometry'] = tokyo_pop['geometry'].to_crs(\"EPSG:6668\")\n",
    "\n",
    "kana_popfp=\"data/500m_mesh_suikei_2018_shape_14/500m_mesh_2018_14.shp\" #人口データ\n",
    "kana_pop=gpd.read_file(kana_popfp)\n",
    "kana_pop['geometry']=kana_pop['geometry'].to_crs(\"EPSG:6668\")\n",
    "tokyo_kana_pop=pd.concat([tokyo_pop,kana_pop])\n",
    "tokyo_kana_pop=tokyo_kana_pop.to_crs(\"EPSG:6668\")"
   ]
  },
  {
   "cell_type": "code",
   "execution_count": null,
   "metadata": {},
   "outputs": [],
   "source": [
    "fig,ax=plt.subplots(1,1)\n",
    "gdata['geometry'].plot(ax=ax, color=\"green\")\n",
    "tokyo_kana_pop.plot(ax=ax)"
   ]
  },
  {
   "cell_type": "markdown",
   "metadata": {},
   "source": [
    "ここでは，gdataに含まれるレストラン5件の（最大で）周囲２０kmに興味があるので，この地域に含まれるメッシュを取り出す。これには，unary_unionを用いてレストラン５件の和集合を求め，さらにその凸包を求める。"
   ]
  },
  {
   "cell_type": "code",
   "execution_count": null,
   "metadata": {},
   "outputs": [],
   "source": [
    "\n",
    "\n",
    "gdata_convex_hull=gdata['geometry'].unary_union.convex_hull\n",
    "gdata_convex_hull=gpd.GeoSeries(gdata_convex_hull)\n",
    "gdata_convex_hull=gdata_convex_hull.set_crs(gdata['geometry'].crs)\n",
    "gdata_convex_hull.plot()"
   ]
  },
  {
   "cell_type": "markdown",
   "metadata": {},
   "source": [
    "そうして，この凸包のバッファを設定する。バッファを設定するには，距離を用いる必要があるので，投影を用いた座標系（ここでは3857）に変換してからバッファを計算する。求めたバッファを，東京都・神奈川県の地図に重ねてプロットする。"
   ]
  },
  {
   "cell_type": "code",
   "execution_count": null,
   "metadata": {},
   "outputs": [],
   "source": [
    "gdata_convex_hull=gdata_convex_hull.to_crs(\"EPSG:3857\")\n",
    "gdata_convex_hull_buf=gdata_convex_hull.buffer(1*1e+3)\n",
    "gdata_convex_hull=gdata_convex_hull.to_crs(\"EPSG:6668\")\n",
    "gdata_convex_hull_buf=gdata_convex_hull_buf.to_crs(\"EPSG:6668\")\n",
    "\n",
    "fig,ax=plt.subplots(1,1)\n",
    "gdata_convex_hull_buf.boundary.plot(ax=ax,color=\"red\")\n",
    "gdata_convex_hull.boundary.plot(ax=ax,color=\"green\")\n",
    "machida.boundary.plot(ax=ax)\n",
    "gdata.plot(ax=ax,color=\"gray\")"
   ]
  },
  {
   "cell_type": "markdown",
   "metadata": {},
   "source": [
    "    バッファと共通部分を持つメッシュのみを取り出して表示する。これには，spatial join演算を用いる。"
   ]
  },
  {
   "cell_type": "code",
   "execution_count": null,
   "metadata": {},
   "outputs": [],
   "source": [
    "print(gdata.crs,gdata_convex_hull_buf.crs,machida.crs,tokyo_kana_pop.crs)"
   ]
  },
  {
   "cell_type": "code",
   "execution_count": null,
   "metadata": {},
   "outputs": [],
   "source": [
    "\n",
    "\n",
    "tokyo_kana_pop=tokyo_kana_pop.set_crs(\"EPSG:6668\")\n",
    "gdata_convex_hull_buf_df=gpd.GeoDataFrame() #バッファ付きの凸包をDataFrameとする。\n",
    "gdata_convex_hull_buf_df.loc[0,'geometry']=gdata_convex_hull_buf[0]\n",
    "gdata_convex_hull_buf_df=gdata_convex_hull_buf_df.set_crs(tokyo_kana_pop.crs)"
   ]
  },
  {
   "cell_type": "code",
   "execution_count": null,
   "metadata": {},
   "outputs": [],
   "source": [
    "#gdata_convex_hull_buf_df.plot() #バッファつきの凸包をプロットする。\n",
    "# 東京と神奈川の人口メッシュデータの中て，　凸包と共通部分を持つものをmesh_around_restとして取り出す。\n",
    "mesh_around_rest=gpd.sjoin(tokyo_kana_pop,gdata_convex_hull_buf_df,how='inner',op='intersects')\n",
    "fig,ax=plt.subplots(1,1)\n",
    "mesh_around_rest.boundary.plot(ax=ax,color='red')\n",
    "gdata['geometry'].plot(ax=ax)"
   ]
  },
  {
   "cell_type": "markdown",
   "metadata": {},
   "source": [
    " ここまでで，5つのレストランからおよそ10km圏内にある人口メッシュmesh_around_restを取り出すことができた。\n",
    " 次に，5つのレストランそれぞれについて，およそ10km圏内の人口メッシュを取り出す。\n",
    " \n",
    " まずは，gdataに格納されている5つのレストランの場所を表すPointのバッファを計算し，gdata['buffer']に記録する。"
   ]
  },
  {
   "cell_type": "code",
   "execution_count": null,
   "metadata": {},
   "outputs": [],
   "source": []
  },
  {
   "cell_type": "code",
   "execution_count": null,
   "metadata": {},
   "outputs": [],
   "source": []
  },
  {
   "cell_type": "code",
   "execution_count": null,
   "metadata": {},
   "outputs": [],
   "source": [
    "#各レストランのバッファを計算して'buffer'列に保存する。\n",
    "gdata=gdata.to_crs(\"EPSG:3857\") ;\n",
    "gdata['buffer']=gdata.buffer(1*1e+3);\n",
    "gdata=gdata.to_crs(\"EPSG:6668\");\n",
    "\n",
    "fig,ax=plt.subplots(1,1);\n",
    "gdata['buffer']=gdata['buffer'].to_crs(\"EPSG:6668\");\n",
    "fig,ax=plt.subplots(1,1);\n",
    "#gdata['buffer'].boundary.plot(ax=ax); #バッファをプロットする\n",
    "#gdata.plot(ax=ax); #レストランの所在地のプロット\n",
    "gdata_buf_df=gpd.GeoDataFrame(geometry=gdata['buffer'])\n",
    "tmesh_around_rest=gpd.sjoin(tokyo_kana_pop,gdata_buf_df,how='inner',op='intersects')\n",
    "\n",
    "gdata_buf_df.boundary.plot()\n",
    "\n",
    "tmesh_around_rest.plot()"
   ]
  },
  {
   "cell_type": "code",
   "execution_count": null,
   "metadata": {},
   "outputs": [],
   "source": [
    "mesh_around_rest=gpd.sjoin(tokyo_kana_pop,rch_buf_df,how='inner',op='intersects')\n",
    "fig,ax=plt.subplots(1,1)\n",
    "machida.boundary.plot(ax=ax)\n"
   ]
  },
  {
   "cell_type": "code",
   "execution_count": null,
   "metadata": {},
   "outputs": [],
   "source": []
  },
  {
   "cell_type": "code",
   "execution_count": null,
   "metadata": {},
   "outputs": [],
   "source": []
  },
  {
   "cell_type": "code",
   "execution_count": null,
   "metadata": {},
   "outputs": [],
   "source": []
  },
  {
   "cell_type": "code",
   "execution_count": null,
   "metadata": {},
   "outputs": [],
   "source": []
  },
  {
   "cell_type": "code",
   "execution_count": null,
   "metadata": {},
   "outputs": [],
   "source": []
  },
  {
   "cell_type": "code",
   "execution_count": null,
   "metadata": {},
   "outputs": [],
   "source": []
  },
  {
   "cell_type": "code",
   "execution_count": null,
   "metadata": {},
   "outputs": [],
   "source": []
  },
  {
   "cell_type": "code",
   "execution_count": null,
   "metadata": {},
   "outputs": [],
   "source": []
  },
  {
   "cell_type": "code",
   "execution_count": null,
   "metadata": {},
   "outputs": [],
   "source": []
  },
  {
   "cell_type": "markdown",
   "metadata": {},
   "source": [
    "町田市に隣接するのは，東京都多摩市，東京都稲城市，東京都八王子市，神奈川県相模原市，神奈川県川崎市，神奈川県大和市，座間市"
   ]
  },
  {
   "cell_type": "code",
   "execution_count": null,
   "metadata": {},
   "outputs": [],
   "source": []
  },
  {
   "cell_type": "code",
   "execution_count": null,
   "metadata": {},
   "outputs": [],
   "source": []
  },
  {
   "cell_type": "code",
   "execution_count": null,
   "metadata": {},
   "outputs": [],
   "source": []
  },
  {
   "cell_type": "code",
   "execution_count": null,
   "metadata": {},
   "outputs": [],
   "source": []
  },
  {
   "cell_type": "code",
   "execution_count": null,
   "metadata": {},
   "outputs": [],
   "source": []
  },
  {
   "cell_type": "code",
   "execution_count": null,
   "metadata": {},
   "outputs": [],
   "source": []
  },
  {
   "cell_type": "code",
   "execution_count": null,
   "metadata": {},
   "outputs": [],
   "source": []
  },
  {
   "cell_type": "code",
   "execution_count": null,
   "metadata": {},
   "outputs": [],
   "source": []
  },
  {
   "cell_type": "code",
   "execution_count": null,
   "metadata": {},
   "outputs": [],
   "source": []
  },
  {
   "cell_type": "code",
   "execution_count": null,
   "metadata": {},
   "outputs": [],
   "source": []
  },
  {
   "cell_type": "markdown",
   "metadata": {},
   "source": [
    "https://github.com/MIERUNE/japan-mesh-tool"
   ]
  },
  {
   "cell_type": "code",
   "execution_count": null,
   "metadata": {},
   "outputs": [],
   "source": [
    "tmesh=gpd.read_file(\"tmp/mesh_2.geojsonl\")\n",
    "tmesh=tmesh.to_crs(\"EPSG:6668\")\n",
    "tmesh"
   ]
  },
  {
   "cell_type": "markdown",
   "metadata": {},
   "source": [
    "これを，町田市の地図，レストランの位置と合わせてプロットする。"
   ]
  },
  {
   "cell_type": "code",
   "execution_count": null,
   "metadata": {},
   "outputs": [],
   "source": [
    "fig,ax=plt.subplots(1,1)\n",
    "machida.boundary.plot(ax=ax)\n",
    "gdata['geometry'].plot(ax=ax)\n",
    "tmesh.boundary.plot(ax=ax,color=\"red\")"
   ]
  },
  {
   "cell_type": "code",
   "execution_count": null,
   "metadata": {},
   "outputs": [],
   "source": [
    "machida_pop['geometry'].plot()"
   ]
  },
  {
   "cell_type": "code",
   "execution_count": null,
   "metadata": {},
   "outputs": [],
   "source": []
  },
  {
   "cell_type": "markdown",
   "metadata": {},
   "source": [
    "人口データは，メッシュに対して与えられている。ここで，レストランの位置から周囲１０km以内の人口を考察の対象とすることにする。このためには，メッシュコードを手がかりに，　レストランの位置から周囲10km以内にあるメッシュを特定したい。上記のgithubリポジトリで，緯度経度から，該当するメッシュを計算するプログラムが公開されているので，それを用いて2次メッシュ(約10km四方)を求めることとする。\n",
    "\n",
    "いま，例として， minami-naruse (139.4669433, 35.5396126)を用いる。上記のjapan-mesh-toolの使い方は，次のとおりである。コマンドラインで\n",
    "\n",
    "```bash\n",
    "python japan-mesh-tool-master/python/japanmesh/main.py -e 139.4669433,35.5396126 139.47,35.540 -d ./tmp 2 \n",
    "\n",
    "```\n",
    "\n",
    "とすると， -eで指定した2つの緯度経度を左下と右上にする２次のメッシュを表すobjectが, geojsonファイルとして， tmpフォルダに出力される。2次メッシュを計算することは，最後の引数で指定している。\n",
    "\n",
    "こうして出力されたファイルの中身は次のものである。\n",
    "\n",
    "```\n",
    "{\"type\":\"Feature\",\"geometry\":{\"type\":\"Polygon\",\"coordinates\":[[[139.375, 35.5], [139.375, 35.58333333333333], [139.5, 35.58333333333333], [139.5, 35.5], [139.375, 35.5]]]},\"properties\":{\"code\":533923}}\n",
    "```\n",
    "\n",
    "これより，求めたかった2次メッシュのコードは， 533923であることがわかる。"
   ]
  }
 ],
 "metadata": {
  "kernelspec": {
   "display_name": "Python 3",
   "language": "python",
   "name": "python3"
  },
  "language_info": {
   "codemirror_mode": {
    "name": "ipython",
    "version": 3
   },
   "file_extension": ".py",
   "mimetype": "text/x-python",
   "name": "python",
   "nbconvert_exporter": "python",
   "pygments_lexer": "ipython3",
   "version": "3.8.3"
  }
 },
 "nbformat": 4,
 "nbformat_minor": 2
}
