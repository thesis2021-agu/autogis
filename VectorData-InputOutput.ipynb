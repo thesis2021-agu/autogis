{
 "cells": [
  {
   "cell_type": "markdown",
   "id": "respiratory-trout",
   "metadata": {},
   "source": [
    "# ベクターデータの入出力"
   ]
  },
  {
   "cell_type": "code",
   "execution_count": 1,
   "id": "civilian-alcohol",
   "metadata": {},
   "outputs": [
    {
     "name": "stdout",
     "output_type": "stream",
     "text": [
      "Requirement already satisfied: geopandas in /Users/kazuhiro/opt/anaconda3/lib/python3.8/site-packages (0.8.1)\n",
      "Requirement already satisfied: pandas>=0.23.0 in /Users/kazuhiro/opt/anaconda3/lib/python3.8/site-packages (from geopandas) (1.2.1)\n",
      "Requirement already satisfied: fiona in /Users/kazuhiro/opt/anaconda3/lib/python3.8/site-packages (from geopandas) (1.8.17)\n",
      "Requirement already satisfied: pyproj>=2.2.0 in /Users/kazuhiro/opt/anaconda3/lib/python3.8/site-packages (from geopandas) (2.6.1.post1)\n",
      "Requirement already satisfied: shapely in /Users/kazuhiro/opt/anaconda3/lib/python3.8/site-packages (from geopandas) (1.7.1)\n",
      "Requirement already satisfied: python-dateutil>=2.7.3 in /Users/kazuhiro/opt/anaconda3/lib/python3.8/site-packages (from pandas>=0.23.0->geopandas) (2.8.1)\n",
      "Requirement already satisfied: pytz>=2017.3 in /Users/kazuhiro/opt/anaconda3/lib/python3.8/site-packages (from pandas>=0.23.0->geopandas) (2020.5)\n",
      "Requirement already satisfied: numpy>=1.16.5 in /Users/kazuhiro/opt/anaconda3/lib/python3.8/site-packages (from pandas>=0.23.0->geopandas) (1.19.2)\n",
      "Requirement already satisfied: six>=1.5 in /Users/kazuhiro/opt/anaconda3/lib/python3.8/site-packages (from python-dateutil>=2.7.3->pandas>=0.23.0->geopandas) (1.15.0)\n",
      "Requirement already satisfied: attrs>=17 in /Users/kazuhiro/opt/anaconda3/lib/python3.8/site-packages (from fiona->geopandas) (20.3.0)\n",
      "Requirement already satisfied: cligj>=0.5 in /Users/kazuhiro/opt/anaconda3/lib/python3.8/site-packages (from fiona->geopandas) (0.6.0)\n",
      "Requirement already satisfied: click<8,>=4.0 in /Users/kazuhiro/opt/anaconda3/lib/python3.8/site-packages (from fiona->geopandas) (7.1.2)\n",
      "Requirement already satisfied: munch in /Users/kazuhiro/opt/anaconda3/lib/python3.8/site-packages (from fiona->geopandas) (2.5.0)\n",
      "Requirement already satisfied: click-plugins>=1.0 in /Users/kazuhiro/opt/anaconda3/lib/python3.8/site-packages (from fiona->geopandas) (1.1.1)\n"
     ]
    }
   ],
   "source": [
    "!pip install geopandas"
   ]
  },
  {
   "cell_type": "code",
   "execution_count": 2,
   "id": "funny-party",
   "metadata": {},
   "outputs": [
    {
     "data": {
      "text/plain": [
       "{'AeronavFAA': 'r',\n",
       " 'ARCGEN': 'r',\n",
       " 'BNA': 'rw',\n",
       " 'DXF': 'rw',\n",
       " 'CSV': 'raw',\n",
       " 'OpenFileGDB': 'r',\n",
       " 'ESRIJSON': 'r',\n",
       " 'ESRI Shapefile': 'raw',\n",
       " 'GeoJSON': 'raw',\n",
       " 'GeoJSONSeq': 'rw',\n",
       " 'GPKG': 'raw',\n",
       " 'GML': 'rw',\n",
       " 'OGR_GMT': 'rw',\n",
       " 'GPX': 'rw',\n",
       " 'GPSTrackMaker': 'rw',\n",
       " 'Idrisi': 'r',\n",
       " 'MapInfo File': 'raw',\n",
       " 'DGN': 'raw',\n",
       " 'OGR_PDS': 'r',\n",
       " 'S57': 'r',\n",
       " 'SEGY': 'r',\n",
       " 'SUA': 'r',\n",
       " 'TopoJSON': 'r'}"
      ]
     },
     "execution_count": 2,
     "metadata": {},
     "output_type": "execute_result"
    }
   ],
   "source": [
    "import geopandas as gpd\n",
    "\n",
    "# サポートされている形式\n",
    "gpd.io.file.fiona.drvsupport.supported_drivers"
   ]
  },
  {
   "cell_type": "markdown",
   "id": "musical-briefs",
   "metadata": {},
   "source": [
    "## Shapefileの読み書き"
   ]
  },
  {
   "cell_type": "code",
   "execution_count": 10,
   "id": "incoming-program",
   "metadata": {},
   "outputs": [],
   "source": [
    "import geopandas as gpd\n",
    "\n",
    "# Read file from Shapefile\n",
    "fp=\"data/N03-20200101_14_GML/N03-20_14_200101.shp\"\n",
    "data = gpd.read_file(fp)\n",
    "\n",
    "# Write to Shapefile (just make a copy)\n",
    "outfp = \"temp/Kanagawa.shp\"\n",
    "data.to_file(outfp)"
   ]
  },
  {
   "cell_type": "markdown",
   "id": "subsequent-evidence",
   "metadata": {},
   "source": [
    "## GeoJSONの読み書き"
   ]
  },
  {
   "cell_type": "code",
   "execution_count": 11,
   "id": "seventh-resistance",
   "metadata": {},
   "outputs": [],
   "source": [
    "# Read file from GeoJSON\n",
    "fp=\"data/N03-20200101_14_GML/N03-20_14_200101.geojson\"\n",
    "data = gpd.read_file(fp, driver=\"GeoJSON\")\n",
    "\n",
    "# Write to GeoJSON (just make a copy)\n",
    "outfp = \"temp/Kanagawa.geojson\"\n",
    "data.to_file(outfp, driver=\"GeoJSON\")"
   ]
  },
  {
   "cell_type": "markdown",
   "id": "nuclear-enlargement",
   "metadata": {},
   "source": [
    "## KMLファイルの読み書き"
   ]
  },
  {
   "cell_type": "code",
   "execution_count": 13,
   "id": "coupled-scholar",
   "metadata": {},
   "outputs": [],
   "source": [
    "# Enable KML driver\n",
    "gpd.io.file.fiona.drvsupport.supported_drivers['KML'] = 'rw'\n",
    "\n",
    "# Read file from KML\n",
    "fp = \"data/N03-20200101_14_GML/Kanagawa.kml\"\n",
    "data = gpd.read_file(fp)\n",
    "\n",
    "# Write to KML (just make a copy)\n",
    "outfp = \"temp/Kanagawa.kml\"\n",
    "data.to_file(outfp, driver=\"KML\")"
   ]
  },
  {
   "cell_type": "markdown",
   "id": "arranged-metadata",
   "metadata": {},
   "source": [
    "## Geopackageの読み書き"
   ]
  },
  {
   "cell_type": "code",
   "execution_count": 15,
   "id": "political-embassy",
   "metadata": {},
   "outputs": [],
   "source": [
    "# Read file from Geopackage\n",
    "fp = \"data/N03-20200101_14_GML/Kanagawa.gpkg\"\n",
    "data = gpd.read_file(fp)\n",
    "\n",
    "# Write to Geopackage (just make a copy)\n",
    "outfp = \"data/Kanagawa.gpkg\"\n",
    "data.to_file(outfp, driver=\"GPKG\")"
   ]
  },
  {
   "cell_type": "code",
   "execution_count": null,
   "id": "equal-gilbert",
   "metadata": {},
   "outputs": [],
   "source": []
  }
 ],
 "metadata": {
  "kernelspec": {
   "display_name": "Python 3",
   "language": "python",
   "name": "python3"
  },
  "language_info": {
   "codemirror_mode": {
    "name": "ipython",
    "version": 3
   },
   "file_extension": ".py",
   "mimetype": "text/x-python",
   "name": "python",
   "nbconvert_exporter": "python",
   "pygments_lexer": "ipython3",
   "version": "3.8.3"
  }
 },
 "nbformat": 4,
 "nbformat_minor": 5
}
