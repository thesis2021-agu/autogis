{
 "cells": [
  {
   "cell_type": "markdown",
   "id": "japanese-cinema",
   "metadata": {},
   "source": [
    "小学校の在籍人数を地図上にマッピングする（Folium、GeoPandas利用）\n",
    "\n",
    "https://qiita.com/Gyutan/items/f9b365d88a1ff89671f0\n",
    "\n",
    "行いたいこと\n",
    "\n",
    "（1）学校の位置を地図上に示す →経度緯度と学校名のリストがあればよい\n",
    "\n",
    "（2）学校の校区を示す →ポリゴン操作が必要\n",
    "\n",
    "（3）各学校の在籍人数を示す →階層プロットが必要\n",
    "\n",
    "なお対象地域は、東京都町田市とする。\n",
    "\n",
    "\n",
    "1. ベースになる地図を表示する。\n",
    "\n",
    "2. 1の地図の上に位置情報を重ねる。\n",
    "    \n",
    "- 小学校の位置など\n",
    "    \n",
    "3. 地図上の各オフジェクトに属性情報を重ねる\n",
    "　　　　　\n",
    "- 在校生の人数など\n"
   ]
  },
  {
   "cell_type": "code",
   "execution_count": null,
   "id": "intended-angola",
   "metadata": {},
   "outputs": [],
   "source": [
    "#必要なモジュールのインポート\n",
    "import json\n",
    "from pathlib import Path\n",
    "\n",
    "import folium\n",
    "from folium import plugins\n",
    "print( \"folium version is {}\".format(folium.__version__) )\n",
    "\n",
    "import geopandas as gpd\n",
    "import pandas as pd\n",
    "\n",
    "import matplotlib.pyplot as plt"
   ]
  },
  {
   "cell_type": "markdown",
   "id": "empirical-relevance",
   "metadata": {},
   "source": [
    "東京都の小学校校区をタウンロードする(A27-16_13_GML.zip)\n",
    "\n",
    "https://nlftp.mlit.go.jp/ksj/gml/datalist/KsjTmplt-A27-v2_1.html\n",
    "\n",
    "\n",
    "このファイルを展開すると， shapeフォルダの中に，A27-16_13.shpと，A27P-16_13.shpがある。Pの付いた方は，小学校の所在地点を表し，ついていない方は，校区を表す。\n"
   ]
  },
  {
   "cell_type": "code",
   "execution_count": null,
   "id": "broken-italian",
   "metadata": {},
   "outputs": [],
   "source": [
    "elschool=\"data/A27-16_13_GML/shape/A27-16_13.shp\"\n",
    "df_e=gpd.read_file(elschool,encoding=\"shift-jis\")\n",
    "df_e.columns"
   ]
  },
  {
   "cell_type": "markdown",
   "id": "treated-secretariat",
   "metadata": {},
   "source": [
    "各列の内容は次のとおりである。\n",
    "\n",
    "A27_005: 市区町村コード\n",
    "\n",
    "A27_006: 設置主体\n",
    "\n",
    "A27_007: 小学校の名称\n",
    "\n",
    "A27_008: 小学校の設置所在地"
   ]
  },
  {
   "cell_type": "code",
   "execution_count": null,
   "id": "violent-gather",
   "metadata": {},
   "outputs": [],
   "source": [
    "df_e"
   ]
  },
  {
   "cell_type": "code",
   "execution_count": null,
   "id": "dominant-geography",
   "metadata": {},
   "outputs": [],
   "source": [
    "#町田市立の各小学校の校区\n",
    "machida_p=df_e[df_e[\"A27_006\"]==\"町田市立\"]"
   ]
  },
  {
   "cell_type": "code",
   "execution_count": null,
   "id": "distant-static",
   "metadata": {},
   "outputs": [],
   "source": [
    "machida_p=machida_p.sort_values(\"A27_007\")\n",
    "machida_p=machida_p.reset_index(drop=True)\n",
    "machida_p.to_file(\"machida_p.geojson\",driver=\"GeoJSON\")\n",
    "machida_p"
   ]
  },
  {
   "cell_type": "code",
   "execution_count": null,
   "id": "female-baseline",
   "metadata": {},
   "outputs": [],
   "source": [
    "machida_p.plot(figsize=(40,40))"
   ]
  },
  {
   "cell_type": "code",
   "execution_count": null,
   "id": "pursuant-exercise",
   "metadata": {},
   "outputs": [],
   "source": [
    "elschool_p=\"data/A27-16_13_GML/shape/A27P-16_13.shp\"\n",
    "df_ep=gpd.read_file(elschool_p,encoding=\"Shift-JIS\")\n",
    "df_ep.columns"
   ]
  },
  {
   "cell_type": "markdown",
   "id": "talented-breakfast",
   "metadata": {},
   "source": [
    "各列の内容は次のとおりである。\n",
    "\n",
    "A27_001: 市区町村コード\n",
    "\n",
    "A27_002: 小学校の設置主体\n",
    "\n",
    "A27_003: 小学校の名称\n",
    "\n",
    "A27_004: 小学校の設置所在地"
   ]
  },
  {
   "cell_type": "code",
   "execution_count": null,
   "id": "beautiful-cycling",
   "metadata": {},
   "outputs": [],
   "source": [
    "machida_ep=df_ep[df_ep[\"A27_002\"]==\"町田市立\"]\n",
    "machida_ep=machida_ep.reset_index(drop=True)\n",
    "machida_ep['geometry']"
   ]
  },
  {
   "cell_type": "markdown",
   "id": "advisory-consistency",
   "metadata": {},
   "source": [
    "小学校の所在地の緯度と経度は，それぞれdf_ep['geometry'].yとdf_ep['geometry'].xに記録されている。"
   ]
  },
  {
   "cell_type": "markdown",
   "id": "direct-casting",
   "metadata": {},
   "source": [
    "この地図に，生徒数と学級数の情報を載せる。これらの情報は，町田市のホームページから取得する。\n",
    "\n",
    "https://kosodate-machida.tokyo.jp/soshiki/5/3/239.html\n"
   ]
  },
  {
   "cell_type": "code",
   "execution_count": null,
   "id": "silver-liquid",
   "metadata": {},
   "outputs": [],
   "source": [
    "machida_ep=machida_ep.sort_values(\"A27_003\")\n",
    "machida_ep=machida_ep.reset_index(drop=True)\n",
    "machida_ep"
   ]
  },
  {
   "cell_type": "markdown",
   "id": "egyptian-musician",
   "metadata": {},
   "source": [
    "この地図に，生徒数と学級数の情報を載せる。これらの情報は，町田市のホームページから取得する。\n",
    "\n",
    "https://kosodate-machida.tokyo.jp/soshiki/5/3/239.html\n",
    "\n",
    "このページからダウンロードしたエクセルファイルから，小学校ごとに，各学年の児童数，学級数のデータを抜き出し，csvファイル(machida_ele_count.csv)として保存する。そして，そのcsvファイルをDataFrameとして読み込む。\n"
   ]
  },
  {
   "cell_type": "code",
   "execution_count": null,
   "id": "exceptional-brisbane",
   "metadata": {},
   "outputs": [],
   "source": [
    "machida_ele_count_fp=\"data/machida_ele_count.csv\"\n",
    "machida_ele_count=pd.read_csv(machida_ele_count_fp)\n",
    "machida_ele_count=machida_ele_count.sort_values(\"name\")\n",
    "machida_ele_count=machida_ele_count.reset_index(drop=True)\n",
    "machida_ele_count"
   ]
  },
  {
   "cell_type": "code",
   "execution_count": null,
   "id": "canadian-arabic",
   "metadata": {},
   "outputs": [],
   "source": [
    "map_center = [35.546559,139.438527]  #町田市役所\n",
    "m_machida_sh = folium.Map(location=map_center, tiles='cartodbpositron', zoom_start=13)\n",
    "#所在地を重ねる\n",
    "for i, dt in machida_ep.iterrows(): #町田市立の各小学校に対して\n",
    "    folium.Marker(location=[dt['geometry'].y,dt['geometry'].x], popup='{},{}'.format(dt['A27_002'],dt['A27_003'])).add_to(m_machida_sh)"
   ]
  },
  {
   "cell_type": "code",
   "execution_count": null,
   "id": "active-monthly",
   "metadata": {},
   "outputs": [],
   "source": [
    "folium.Choropleth(geo_data=machida_p.to_json(), # GeoJSONファイル\n",
    "#                        name = 'choropleth', # map名\n",
    "                        data = machida_ele_count,\n",
    "                        columns=['name', '計児童・生徒数'], # 点数データのkey列とvalue列を指定\n",
    "                        key_on='properties.A27_007', # GeoJSONファイル内のキーを指定\n",
    "                        line_color='red').add_to(m_machida_sh)"
   ]
  },
  {
   "cell_type": "code",
   "execution_count": null,
   "id": "alpine-characterization",
   "metadata": {},
   "outputs": [],
   "source": [
    "display(m_machida_sh)"
   ]
  }
 ],
 "metadata": {
  "kernelspec": {
   "display_name": "Python 3",
   "language": "python",
   "name": "python3"
  },
  "language_info": {
   "codemirror_mode": {
    "name": "ipython",
    "version": 3
   },
   "file_extension": ".py",
   "mimetype": "text/x-python",
   "name": "python",
   "nbconvert_exporter": "python",
   "pygments_lexer": "ipython3",
   "version": "3.8.3"
  }
 },
 "nbformat": 4,
 "nbformat_minor": 5
}
