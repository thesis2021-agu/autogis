{
 "cells": [
  {
   "cell_type": "markdown",
   "id": "little-benchmark",
   "metadata": {},
   "source": [
    "小学校の在籍人数を地図上にマッピングする（Folium、GeoPandas利用）\n",
    "\n",
    "https://qiita.com/Gyutan/items/f9b365d88a1ff89671f0\n",
    "\n",
    "行いたいこと\n",
    "\n",
    "（1）学校の位置を地図上に示す →経度緯度と学校名のリストがあればよい\n",
    "\n",
    "（2）学校の校区を示す →ポリゴン操作が必要\n",
    "\n",
    "（3）各学校の在籍人数を示す →階層プロットが必要\n",
    "\n",
    "なお対象地域は、埼玉県相模原市とする。\n",
    "\n",
    "\n",
    "1. ベースになる地図を表示する。\n",
    "\n",
    "2. 1の地図の上に位置情報を重ねる。\n",
    "    \n",
    "- 小学校の位置など\n",
    "    \n",
    "3. 地図上の各オフジェクトに属性情報を重ねる\n",
    "　　　　　\n",
    "- 在校生の人数など\n"
   ]
  },
  {
   "cell_type": "code",
   "execution_count": null,
   "id": "mature-cradle",
   "metadata": {},
   "outputs": [],
   "source": [
    "#必要なモジュールのインポート\n",
    "import json\n",
    "from pathlib import Path\n",
    "\n",
    "import folium\n",
    "from folium import plugins\n",
    "print( \"folium version is {}\".format(folium.__version__) )\n",
    "\n",
    "import geopandas as gpd\n",
    "import pandas as pd\n",
    "\n",
    "import matplotlib.pyplot as plt"
   ]
  },
  {
   "cell_type": "markdown",
   "id": "specific-nowhere",
   "metadata": {},
   "source": [
    "東京都の小学校校区をタウンロードする(A27-16_13_GML.zip)\n",
    "\n",
    "https://nlftp.mlit.go.jp/ksj/gml/datalist/KsjTmplt-A27-v2_1.html\n",
    "\n",
    "\n",
    "このファイルを展開すると， shapeフォルダの中に，A27-16_13.shpと，A27P-16_13.shpがある。Pの付いた方は，小学校の所在地点を表し，ついていない方は，校区を表す。\n"
   ]
  },
  {
   "cell_type": "code",
   "execution_count": null,
   "id": "attached-secondary",
   "metadata": {},
   "outputs": [],
   "source": [
    "elschool=\"data/A27-16_13_GML/shape/A27-16_13.shp\"\n",
    "df_e=gpd.read_file(elschool,encoding=\"shift-jis\")\n",
    "df_e.columns"
   ]
  },
  {
   "cell_type": "markdown",
   "id": "assured-highway",
   "metadata": {},
   "source": [
    "各列の内容は次のとおりである。\n",
    "\n",
    "A27_005: 市区町村コード\n",
    "\n",
    "A27_006: 設置主体\n",
    "\n",
    "A27_007: 小学校の名称\n",
    "\n",
    "A27_008: 小学校の設置所在地"
   ]
  },
  {
   "cell_type": "code",
   "execution_count": null,
   "id": "hawaiian-myanmar",
   "metadata": {},
   "outputs": [],
   "source": [
    "#町田市立の各小学校の校区\n",
    "machida_p=df_e[df_e[\"A27_006\"]==\"町田市立\"]\n"
   ]
  },
  {
   "cell_type": "code",
   "execution_count": null,
   "id": "intellectual-leone",
   "metadata": {},
   "outputs": [],
   "source": [
    "machida_p.plot(figsize=(40,40))"
   ]
  },
  {
   "cell_type": "code",
   "execution_count": null,
   "id": "outstanding-chester",
   "metadata": {},
   "outputs": [],
   "source": [
    "machida_p=machida_p.reset_index(drop=True)"
   ]
  },
  {
   "cell_type": "code",
   "execution_count": null,
   "id": "hindu-shirt",
   "metadata": {},
   "outputs": [],
   "source": [
    "machida_p=machida_p.sort_values(\"A27_007\")\n",
    "machida_p=machida_p.reset_index(drop=True)\n",
    "machida_p"
   ]
  },
  {
   "cell_type": "code",
   "execution_count": null,
   "id": "convenient-aurora",
   "metadata": {},
   "outputs": [],
   "source": [
    "elschool_p=\"data/A27-16_13_GML/shape/A27P-16_13.shp\"\n",
    "df_ep=gpd.read_file(elschool_p,encoding=\"Shift-JIS\")\n",
    "df_ep.columns"
   ]
  },
  {
   "cell_type": "markdown",
   "id": "scenic-daisy",
   "metadata": {},
   "source": [
    "各列の内容は次のとおりである。\n",
    "\n",
    "A27_001: 市区町村コード\n",
    "\n",
    "A27_002: 小学校の設置主体\n",
    "\n",
    "A27_003: 小学校の名称\n",
    "\n",
    "A27_004: 小学校の設置所在地"
   ]
  },
  {
   "cell_type": "code",
   "execution_count": null,
   "id": "subsequent-flexibility",
   "metadata": {},
   "outputs": [],
   "source": [
    "machida_ep=df_ep[df_ep[\"A27_002\"]==\"町田市立\"]\n",
    "machida_ep=machida_ep.reset_index(drop=True)\n",
    "machida_ep.plot()"
   ]
  },
  {
   "cell_type": "markdown",
   "id": "extra-thomas",
   "metadata": {},
   "source": [
    "小学校の所在地の緯度と経度は，それぞれdf_ep['geometry'].yとdf_ep['geometry'].xに記録されている。"
   ]
  },
  {
   "cell_type": "code",
   "execution_count": null,
   "id": "angry-donna",
   "metadata": {},
   "outputs": [],
   "source": [
    "df_ep['geometry'].y,df_ep['geometry'].x"
   ]
  },
  {
   "cell_type": "code",
   "execution_count": null,
   "id": "noticed-safety",
   "metadata": {},
   "outputs": [],
   "source": [
    "#地図に位置をマッピングします。\n",
    "map_center = [35.546559,139.438527]  #町田市役所\n",
    "m2_machida = folium.Map(location=map_center, tiles='openstreetmap', zoom_start=13)\n",
    "for i, dt in machida_ep.iterrows(): #町田市立の各小学校に対して\n",
    "    folium.Marker(location=[dt['geometry'].y,dt['geometry'].x], popup='{},{}'.format(dt['A27_002'],dt['A27_003'])).add_to(m2_machida)\n",
    "m2_machida.save('mashida_e_school.html')"
   ]
  },
  {
   "cell_type": "code",
   "execution_count": null,
   "id": "cognitive-implement",
   "metadata": {},
   "outputs": [],
   "source": [
    "display(m2_machida)"
   ]
  },
  {
   "cell_type": "code",
   "execution_count": null,
   "id": "working-mexican",
   "metadata": {},
   "outputs": [],
   "source": [
    "map_center = [35.546559,139.438527]  #町田市役所\n",
    "m_machida_sh = folium.Map(location=map_center, tiles='cartodbpositron', zoom_start=13)\n",
    "#校区を重ねる\n",
    "folium.Choropleth(geo_data=machida_p.to_json()).add_to(m_machida_sh)\n",
    "#所在地を重ねる\n",
    "for i, dt in machida_ep.iterrows(): #町田市立の各小学校に対して\n",
    "    folium.Marker(location=[dt['geometry'].y,dt['geometry'].x], popup='{},{}'.format(dt['A27_002'],dt['A27_003'])).add_to(m_machida_sh)"
   ]
  },
  {
   "cell_type": "code",
   "execution_count": null,
   "id": "ideal-judge",
   "metadata": {},
   "outputs": [],
   "source": [
    "display(m_machida_sh)"
   ]
  },
  {
   "cell_type": "markdown",
   "id": "prerequisite-imaging",
   "metadata": {},
   "source": [
    "この地図に，生徒数と学級数の情報を載せる。これらの情報は，町田市のホームページから取得する。\n",
    "\n",
    "https://kosodate-machida.tokyo.jp/soshiki/5/3/239.html\n"
   ]
  },
  {
   "cell_type": "code",
   "execution_count": null,
   "id": "regional-british",
   "metadata": {},
   "outputs": [],
   "source": [
    "machida_ep=machida_ep.sort_values(\"A27_003\")\n",
    "machida_ep=machida_ep.reset_index(drop=True)\n",
    "machida_ep"
   ]
  },
  {
   "cell_type": "markdown",
   "id": "innocent-expert",
   "metadata": {},
   "source": [
    "この地図に，生徒数と学級数の情報を載せる。これらの情報は，町田市のホームページから取得する。\n",
    "\n",
    "https://kosodate-machida.tokyo.jp/soshiki/5/3/239.html\n",
    "\n",
    "このページからダウンロードしたエクセルファイルから，小学校ごとに，各学年の児童数，学級数のデータを抜き出し，csvファイル(machida_ele_count.csv)として保存する。そして，そのcsvファイルをDataFrameとして読み込む。\n"
   ]
  },
  {
   "cell_type": "code",
   "execution_count": null,
   "id": "narrow-compression",
   "metadata": {},
   "outputs": [],
   "source": [
    "machida_ele_count_fp=\"data/machida_ele_count.csv\"\n",
    "machida_ele_count=pd.read_csv(machida_ele_count_fp)"
   ]
  },
  {
   "cell_type": "code",
   "execution_count": null,
   "id": "choice-decision",
   "metadata": {},
   "outputs": [],
   "source": [
    "machida_ele_count=machida_ele_count.sort_values(\"学校名\")\n",
    "machida_ele_count=machida_ele_count.reset_index(drop=True)\n",
    "machida_ele_count"
   ]
  },
  {
   "cell_type": "code",
   "execution_count": null,
   "id": "consecutive-taylor",
   "metadata": {},
   "outputs": [],
   "source": [
    "map_center = [35.546559,139.438527]  #町田市役所\n",
    "m_machida_sh = folium.Map(location=map_center, tiles='cartodbpositron', zoom_start=13)\n",
    "#校区を重ねる\n",
    "folium.Choropleth(geo_data=machida_p.to_json()).add_to(m_machida_sh)\n",
    "#所在地を重ねる\n",
    "for i, dt in machida_ep.iterrows(): #町田市立の各小学校に対して\n",
    "    folium.Marker(location=[dt['geometry'].y,dt['geometry'].x], popup='{},{}'.format(dt['A27_002'],dt['A27_003'])).add_to(m_machida_sh)\n",
    "\n",
    "folium.Choropleth(geo_data=machida_ep.to_json(), # GeoJSONファイル\n",
    "#                        name = 'choropleth', # map名\n",
    "                        data = machida_ele_count,\n",
    "                        columns=['id', '計児童・生徒数'], # 点数データのkey列とvalue列を指定\n",
    "                       key_on='features.properties.A27_007', # GeoJSONファイル内のキーを指定\n",
    "                       fill_opacity=0.7, \n",
    "                        line_opacity=0.2,\n",
    "                        line_color='red',\n",
    "                  threshold_scale=[0,100,200,300,400,500,600,700,800,900]\n",
    "    ).add_to(m_machida_sh)\n",
    "#LayerControl().add_to(m)\n",
    "#folium.Choropleth(geo_data=machida_p.to_json()).add_to(m_machida_sh)"
   ]
  },
  {
   "cell_type": "code",
   "execution_count": null,
   "id": "blind-thinking",
   "metadata": {},
   "outputs": [],
   "source": [
    "display(m_machida_sh)"
   ]
  },
  {
   "cell_type": "code",
   "execution_count": null,
   "id": "employed-housing",
   "metadata": {},
   "outputs": [],
   "source": [
    "machida_p.to_json()\n",
    "machida_p.to_file(\"machida_p.geojson\", driver='GeoJSON')"
   ]
  },
  {
   "cell_type": "code",
   "execution_count": null,
   "id": "urban-hindu",
   "metadata": {},
   "outputs": [],
   "source": [
    "machida_p"
   ]
  },
  {
   "cell_type": "code",
   "execution_count": null,
   "id": "powered-director",
   "metadata": {},
   "outputs": [],
   "source": [
    "machida_p[\"A27_007\"].unique()"
   ]
  },
  {
   "cell_type": "code",
   "execution_count": null,
   "id": "subtle-excitement",
   "metadata": {},
   "outputs": [],
   "source": [
    "machida_ep.to_csv(\"data/tmp.csv\",columns=['A27_003'])"
   ]
  },
  {
   "cell_type": "code",
   "execution_count": null,
   "id": "unnecessary-hampshire",
   "metadata": {},
   "outputs": [],
   "source": [
    "machida_ep['A27_003']"
   ]
  },
  {
   "cell_type": "markdown",
   "id": "impressed-north",
   "metadata": {},
   "source": [
    "machida_ele_countにidを追加する。"
   ]
  },
  {
   "cell_type": "code",
   "execution_count": null,
   "id": "wanted-summer",
   "metadata": {},
   "outputs": [],
   "source": [
    "s=pd.Series(list(machida_ep['A27_003']))"
   ]
  },
  {
   "cell_type": "code",
   "execution_count": null,
   "id": "wooden-hampshire",
   "metadata": {},
   "outputs": [],
   "source": [
    "s"
   ]
  },
  {
   "cell_type": "code",
   "execution_count": null,
   "id": "reverse-antique",
   "metadata": {},
   "outputs": [],
   "source": [
    "machida_ele_count,\n",
    "#columns=['id', '計児童・生徒数'\n",
    "machida_ele_count['計児童・生徒数']"
   ]
  },
  {
   "cell_type": "code",
   "execution_count": null,
   "id": "ceramic-tract",
   "metadata": {},
   "outputs": [],
   "source": []
  }
 ],
 "metadata": {
  "kernelspec": {
   "display_name": "Python 3",
   "language": "python",
   "name": "python3"
  },
  "language_info": {
   "codemirror_mode": {
    "name": "ipython",
    "version": 3
   },
   "file_extension": ".py",
   "mimetype": "text/x-python",
   "name": "python",
   "nbconvert_exporter": "python",
   "pygments_lexer": "ipython3",
   "version": "3.8.3"
  }
 },
 "nbformat": 4,
 "nbformat_minor": 5
}
