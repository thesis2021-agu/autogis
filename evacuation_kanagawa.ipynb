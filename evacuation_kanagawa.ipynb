{
 "cells": [
  {
   "cell_type": "code",
   "execution_count": null,
   "id": "e933b75c-9c09-45bb-a128-a0b16f3bcbeb",
   "metadata": {},
   "outputs": [],
   "source": [
    "import geopandas as gpd"
   ]
  },
  {
   "cell_type": "code",
   "execution_count": null,
   "id": "bb14fbbe-dda8-451a-b5af-cd997b88e83c",
   "metadata": {},
   "outputs": [],
   "source": [
    "kanagawa=gpd.read_file(\"data/A002005212015DDSWC14/h27ka14.shp\")"
   ]
  },
  {
   "cell_type": "code",
   "execution_count": null,
   "id": "d3b4aedb-f4f1-4745-b9eb-9512582b88b7",
   "metadata": {},
   "outputs": [],
   "source": [
    "kanagawa.plot()"
   ]
  },
  {
   "cell_type": "code",
   "execution_count": null,
   "id": "c6cd6bc9-cddd-4d60-ae66-56d2268fc480",
   "metadata": {},
   "outputs": [],
   "source": [
    "import pandas as pd\n",
    "pop=pd.read_csv(\"data/tblT000849C14.txt\",encoding=\"SHIFT-JIS\",skiprows=[1],na_values=[\"X\",\"-\"],dtype=str)"
   ]
  },
  {
   "cell_type": "code",
   "execution_count": null,
   "id": "58a2c256-6534-4685-9a15-7f4547e920f2",
   "metadata": {
    "slideshow": {
     "slide_type": "slide"
    },
    "tags": []
   },
   "outputs": [],
   "source": [
    "kanagawa[kanagawa[\"KEY_CODE\"]==\"144010070\"]"
   ]
  },
  {
   "cell_type": "code",
   "execution_count": null,
   "id": "8de0c85b-3c89-46aa-8fd8-123ec3a18cb2",
   "metadata": {},
   "outputs": [],
   "source": [
    "tsunami_kanagawafp=\"data/A40-16_14_GML/A40-16_14.shp\"\n",
    "tsunami_kanagawa=gpd.read_file(tsunami_kanagawafp)"
   ]
  },
  {
   "cell_type": "code",
   "execution_count": null,
   "id": "446a778c-da45-4ad6-993c-af3a2d8d8f3d",
   "metadata": {},
   "outputs": [],
   "source": [
    "kanagawa=kanagawa.to_crs(\"EPSG:6668\")\n",
    "print(tsunami_kanagawa.crs,kanagawa.crs)\n",
    "ax=kanagawa.plot(alpha=0.2,figsize=(40,40))\n",
    "#ax=kanagawa.boundary.plot()\n",
    "tsunami_kanagawa.plot(ax=ax,color=\"red\")"
   ]
  },
  {
   "cell_type": "code",
   "execution_count": null,
   "id": "86f77b74-7c5e-407f-be22-54d8693c8c26",
   "metadata": {},
   "outputs": [],
   "source": [
    "from geopy.geocoders import Nominatim\n",
    "from shapely.geometry import Point"
   ]
  },
  {
   "cell_type": "code",
   "execution_count": null,
   "id": "483dd5cb-8019-4e54-870c-3630414ed0c8",
   "metadata": {},
   "outputs": [],
   "source": [
    "ninomiya_evac_fac=pd.read_csv(\"data/ninomiya_fac.txt\")\n",
    "geolocator = Nominatim(user_agent=\"test-dayo\")\n",
    "ninomiya_evac_fac['gcode']=ninomiya_evac_fac.addr.apply(geolocator.geocode)"
   ]
  },
  {
   "cell_type": "code",
   "execution_count": null,
   "id": "9f2f44a6-4e2f-4884-9171-4ac4f0e61601",
   "metadata": {},
   "outputs": [],
   "source": [
    "ninomiya_evac_fac=pd.read_csv(\"data/ninomiya_fac.txt\")\n",
    "ninomiya_evac_fac.addr\n",
    "ninomiya_evac_fac['gcode']=ninomiya_evac_fac.addr.apply(geolocator.geocode)"
   ]
  },
  {
   "cell_type": "code",
   "execution_count": null,
   "id": "ce72ef5d-71dd-4844-bd0a-e855c252b774",
   "metadata": {},
   "outputs": [],
   "source": [
    "ninomiya_evac_fac=pd.read_csv(\"data/ninomiya_fac.txt\")"
   ]
  },
  {
   "cell_type": "code",
   "execution_count": null,
   "id": "25faffaa-d9d0-43e1-9f4b-f11cdb1b6068",
   "metadata": {},
   "outputs": [],
   "source": [
    "ninomiya_evac_fac"
   ]
  },
  {
   "cell_type": "code",
   "execution_count": null,
   "id": "a3b1b77e-91b8-4024-a170-b6e3fb14b972",
   "metadata": {},
   "outputs": [],
   "source": [
    "#ninomiya_evac_fac\n",
    "from shapely.geometry import Point\n",
    "evac_fac=gpd.GeoDataFrame()\n",
    "evac_pt=[]\n",
    "for i,d in ninomiya_evac_fac.iterrows():\n",
    "    print(i,Point(d.lat,d.lon))\n",
    "    evac_pt+=[Point(d.lon,d.lat)]\n",
    "print(evac_pt)\n",
    "#evac_fac=gpd.GeoDataFrame(geometry=evac_pt)\n",
    "evac_fac=gpd.GeoDataFrame(geometry=evac_pt)\n",
    "evac_fac['ninzu']=ninomiya_evac_fac['ninzu']\n",
    "evac_fac['name']=ninomiya_evac_fac['name']\n",
    "evac_fac=evac_fac.set_crs(\"EPSG:6668\")\n",
    "evac_fac"
   ]
  },
  {
   "cell_type": "code",
   "execution_count": null,
   "id": "ac6e3cf1-6321-4331-93cf-797232c0720b",
   "metadata": {},
   "outputs": [],
   "source": [
    "evac_fac['name'] = None\n",
    "for index, row in ninomiya_evac_fac.iterrows():\n",
    "    evac_fac.loc[index, 'name'] = row[\"name\"]"
   ]
  },
  {
   "cell_type": "code",
   "execution_count": null,
   "id": "23c43bf3-b683-4e40-9f32-f463efe9e114",
   "metadata": {},
   "outputs": [],
   "source": [
    "ninomiya=kanagawa[ kanagawa[\"CITY_NAME\"]==\"二宮町\"]\n",
    "ninomiya = ninomiya.reset_index(drop=True)\n",
    "print(ninomiya.crs,evac_fac.crs)\n",
    "ax=ninomiya.plot(alpha=0.2,figsize=(40,40))\n",
    "tsunami_kanagawa.plot(ax=ax,color=\"red\")\n",
    "evac_fac.plot(ax=ax,color=\"black\")"
   ]
  },
  {
   "cell_type": "code",
   "execution_count": null,
   "id": "8cd557a7-e99c-4267-a807-d81d4a6a92a9",
   "metadata": {},
   "outputs": [],
   "source": [
    "#ninomiya=ninomiya.to_crs(\"EPSG:6668\")"
   ]
  },
  {
   "cell_type": "code",
   "execution_count": null,
   "id": "16c40ac9-7ecb-4a27-8bda-2192c15efde0",
   "metadata": {},
   "outputs": [],
   "source": [
    "tsunami_ninomiya=gpd.sjoin(tsunami_kanagawa,ninomiya,how='inner',op='intersects')"
   ]
  },
  {
   "cell_type": "code",
   "execution_count": null,
   "id": "10a59c99-0ccd-4f96-a587-a8c390ce640a",
   "metadata": {},
   "outputs": [],
   "source": [
    "ax=ninomiya.boundary.plot(alpha=0.5,figsize=(40,40))\n",
    "tsunami_ninomiya.plot(ax=ax,color=\"red\")\n",
    "evac_fac.plot(ax=ax,color=\"black\")"
   ]
  },
  {
   "cell_type": "code",
   "execution_count": null,
   "id": "a32d9134-ba68-4da4-b20a-1da12779f197",
   "metadata": {},
   "outputs": [],
   "source": [
    "for i,row in ninomiya.iterrows():\n",
    "    print(row['geometry'].centroid)"
   ]
  },
  {
   "cell_type": "code",
   "execution_count": null,
   "id": "61906e7c-d4dd-41fd-9779-42b05a745114",
   "metadata": {},
   "outputs": [],
   "source": [
    "import osmnx as ox\n",
    "place_name = \"Ninomiya, Kanagawa\"\n",
    "ninomiya_graph = ox.graph_from_place(place_name)"
   ]
  },
  {
   "cell_type": "code",
   "execution_count": null,
   "id": "39009457-d569-4884-9ff7-771fa2f6d11b",
   "metadata": {},
   "outputs": [],
   "source": [
    "ox.plot_graph(ninomiya_graph,node_size=0)"
   ]
  },
  {
   "cell_type": "code",
   "execution_count": null,
   "id": "8e724ccb-259f-407d-a0bd-1436d64cdfef",
   "metadata": {},
   "outputs": [],
   "source": [
    "# impute missing edge speeds and calculate edge travel times with the speed module\n",
    "ninomiya_graph = ox.speed.add_edge_speeds(ninomiya_graph)\n",
    "ninomiya_graph = ox.speed.add_edge_travel_times(ninomiya_graph)"
   ]
  },
  {
   "cell_type": "code",
   "execution_count": null,
   "id": "e5c2ec18-016d-4822-bbb5-4082039f0f95",
   "metadata": {},
   "outputs": [],
   "source": [
    "ninomiya"
   ]
  },
  {
   "cell_type": "code",
   "execution_count": null,
   "id": "7ac568b8-19c8-4bfc-aa48-e487d1734a32",
   "metadata": {},
   "outputs": [],
   "source": [
    "# get the nearest network nodes to two lat/lng points with the distance module\n",
    "#orig = ox.distance.nearest_nodes(G, X=-122.245846, Y=37.828903)\n",
    "#dest = ox.distance.nearest_nodes(G, X=-122.215006, Y=37.812303)\n",
    "#最初の基本区のcentroid\n",
    "#for i,row in ninomiya.iterrows():\n",
    "#    print(row['geometry'].centroid)\n",
    "#type(ninomiya)\n"
   ]
  },
  {
   "cell_type": "code",
   "execution_count": null,
   "id": "71699148-2cf5-408b-bf83-c664a459004a",
   "metadata": {},
   "outputs": [],
   "source": [
    "n0=ninomiya.loc[0].geometry.centroid #最初の基本区\n",
    "orig = ox.distance.nearest_nodes(ninomiya_graph, X=n0.x, Y=n0.y) #n0に最も近いノードを求める\n",
    "e0=evac_fac.loc[0].geometry #最初の広域避難所\n",
    "dest=ox.distance.nearest_nodes(ninomiya_graph,X=e0.x,Y=e0.y)#e0に最も近いノードを求める"
   ]
  },
  {
   "cell_type": "code",
   "execution_count": null,
   "id": "0dd189b2-67c0-450b-9324-10e22ab4ed7c",
   "metadata": {},
   "outputs": [],
   "source": [
    "# find the shortest path between nodes, minimizing travel time, then plot it\n",
    "route = ox.shortest_path(ninomiya_graph, orig, dest, weight=\"travel_time\")\n",
    "fig, ax = ox.plot_graph_route(ninomiya_graph, route, node_size=0)"
   ]
  },
  {
   "cell_type": "code",
   "execution_count": null,
   "id": "d7804482-aaac-4f31-9bbd-85ec01ddb3e7",
   "metadata": {
    "slideshow": {
     "slide_type": "slide"
    },
    "tags": []
   },
   "outputs": [],
   "source": [
    "import matplotlib.pyplot as plt\n",
    "fig, ax= plt.subplots(1,1, figsize=(40,10))\n",
    "ninomiya.boundary.plot(ax=ax,alpha=0.5,figsize=(40,40))\n",
    "tsunami_ninomiya.plot(ax=ax,color=\"red\")\n",
    "evac_fac.plot(ax=ax,color=\"black\")\n",
    "#print(ninomiya.crs,tsunami_ninomiya.crs,evac_fac.crs)"
   ]
  },
  {
   "cell_type": "code",
   "execution_count": null,
   "id": "b7edc608-44f6-45f4-a56b-03c65f098f0b",
   "metadata": {},
   "outputs": [],
   "source": [
    "#グラフを，geodataframeに変換して，nodes,edgesに保存する。\n",
    "nodes,edges = ox.graph_to_gdfs(ninomiya_graph, nodes=True, edges=True)"
   ]
  },
  {
   "cell_type": "code",
   "execution_count": null,
   "id": "0377c473-b5f2-4105-8f2a-afdea0e85c5b",
   "metadata": {},
   "outputs": [],
   "source": [
    "edges['geometry'].to_crs(\"EPSG:6668\")\n",
    "nodes['geometry'].to_crs(\"EPSG:6668\")"
   ]
  },
  {
   "cell_type": "code",
   "execution_count": null,
   "id": "83f68717-0f6f-4f7f-8aff-6b737b023bac",
   "metadata": {},
   "outputs": [],
   "source": [
    "import matplotlib.pyplot as plt\n",
    "fig, ax= plt.subplots(1,1, figsize=(40,10))\n",
    "ninomiya.boundary.plot(ax=ax,alpha=0.5,figsize=(40,40))\n",
    "tsunami_ninomiya.plot(ax=ax,color=\"red\")\n",
    "evac_fac.plot(ax=ax,color=\"black\")\n",
    "edges['geometry'].plot(ax=ax)"
   ]
  },
  {
   "cell_type": "code",
   "execution_count": null,
   "id": "5a60764e-b8a1-4b6e-9c11-755979bf47c8",
   "metadata": {},
   "outputs": [],
   "source": [
    "orig_pt,dest_pt=nodes.at[orig,\"geometry\"],nodes.at[dest,\"geometry\"]\n",
    "\n",
    "od_points = gpd.GeoDataFrame(crs=edges.crs)\n",
    "od_points['geometry'] = None\n",
    "od_points['type'] = None\n",
    "od_points.loc[0, ['geometry', 'type']] = orig_pt, 'Origin'\n",
    "od_points.loc[1, ['geometry', 'type']] = dest_pt, 'Target'\n",
    "od_points['geometry'].to_crs(\"EPSG:6668\")"
   ]
  },
  {
   "cell_type": "code",
   "execution_count": null,
   "id": "b9d88db1-a24d-4d06-844d-7241e7cf5f74",
   "metadata": {},
   "outputs": [],
   "source": [
    "fig, ax= plt.subplots(1,1, figsize=(40,40))\n",
    "ninomiya.boundary.plot(ax=ax,alpha=0.5,figsize=(40,40))\n",
    "tsunami_ninomiya.plot(ax=ax,color=\"red\")\n",
    "evac_fac.plot(ax=ax,color=\"black\")\n",
    "edges['geometry'].plot(ax=ax)\n",
    "od_points.plot(ax=ax,color=\"#ff7f00\")"
   ]
  },
  {
   "cell_type": "code",
   "execution_count": null,
   "id": "f5e47f1d",
   "metadata": {},
   "outputs": [],
   "source": [
    "#od_points.plot()"
   ]
  },
  {
   "cell_type": "markdown",
   "id": "7962cbf2",
   "metadata": {},
   "source": [
    ">本研究では，解析範囲内の国勢調査の基本単位区毎に\n",
    "累積収容人数を累積収容人数曲線として表現し，基本単\n",
    "位区毎の累積収容人数を比較した．\n",
    "\n",
    "各基本単位区から，各広域避難所までの移動距離を求める。"
   ]
  },
  {
   "cell_type": "code",
   "execution_count": null,
   "id": "081bcf6e",
   "metadata": {},
   "outputs": [],
   "source": [
    "ku_dist=pd.DataFrame()\n",
    "for i,row in ninomiya.iterrows():\n",
    "    #i番目の基本区のcentroidをポイントとしてcent_locに設定する\n",
    "    print(i,\"番目の基本区から\")\n",
    "    cent_loc=Point(row['geometry'].centroid.x,row['geometry'].centroid.y)\n",
    "    orig=ox.distance.nearest_nodes(ninomiya_graph,X=cent_loc.x,Y=cent_loc.y)\n",
    "    print(\"orig:\",orig)\n",
    "    for j,row2 in evac_fac.iterrows():\n",
    "        #j番目の施設をポイントとしてfac_locに設定する\n",
    "        fac_loc=Point(row2['geometry'].x,row2['geometry'].y)\n",
    "        dest=ox.distance.nearest_nodes(ninomiya_graph,X=fac_loc.x,Y=fac_loc.y)\n",
    "        print(\"dest:\",dest)\n",
    "        \n",
    "        route = ox.shortest_path(ninomiya_graph, orig, dest, weight=\"travel_time\")\n",
    "\n",
    "        \n",
    "    print(\"\")\n",
    "    print(\"\")\n"
   ]
  },
  {
   "cell_type": "code",
   "execution_count": null,
   "id": "01170c7d",
   "metadata": {},
   "outputs": [],
   "source": [
    "evac_fac"
   ]
  },
  {
   "cell_type": "code",
   "execution_count": null,
   "id": "387fc57a",
   "metadata": {},
   "outputs": [],
   "source": [
    "#    print(\"\")\n",
    "import networkx as nx\n",
    "ku_dist=pd.DataFrame()\n",
    "for i,row in ninomiya.iterrows():\n",
    "    #i番目の基本区のcentroidをポイントとしてcent_locに設定する\n",
    "    print(i,\"番目の基本区から\")\n",
    "    cent_loc=Point(row['geometry'].centroid.x,row['geometry'].centroid.y)\n",
    "    ku_dist.loc[i,\"cent_loc\"]=row['KEY_CODE']\n",
    "    orig=ox.distance.nearest_nodes(ninomiya_graph,X=cent_loc.x,Y=cent_loc.y)\n",
    "    for j,row2 in evac_fac.iterrows():\n",
    "        fac_loc=Point(row2['geometry'].x,row2['geometry'].y)\n",
    "        dest=ox.distance.nearest_nodes(ninomiya_graph,X=fac_loc.x,Y=fac_loc.y)\n",
    "        print(\"cent_loc:\",cent_loc.x,cent_loc.y,\" fac:\",fac_loc.x,fac_loc.y)\n",
    "        route = ox.shortest_path(ninomiya_graph, orig, dest)\n",
    "        min_dist = nx.shortest_path_length(ninomiya_graph, orig, dest)\n",
    "        ku_dist.loc[i,j]=min_dist*100\n",
    "        \n",
    "        print(\"dist:\",min_dist*100, \" m\")\n",
    "        fig,ax=ox.plot_graph_route(ninomiya_graph,route,node_size=0)"
   ]
  },
  {
   "cell_type": "code",
   "execution_count": null,
   "id": "41138a0e",
   "metadata": {},
   "outputs": [],
   "source": [
    "#各基本区のcentroidから，各広域避難所への距離\n",
    "ku_dist\n",
    "#平均徒歩避難速度を50m/分として， 一定時間以内に到達可能な広域避難所の収容人数を足して累積収容人数を計算する。"
   ]
  },
  {
   "cell_type": "code",
   "execution_count": null,
   "id": "099fd4d1",
   "metadata": {},
   "outputs": [],
   "source": [
    "thres_min=[5,10,15,20,30] #累積収容人数を計算するための移動時間閾値\n",
    "walk_speed=50\n",
    "for i,row in  ku_dist.iterrows():\n",
    "    print(i,\"th 基本区\")\n",
    "    row['cum_cap']=0\n",
    "    for tmin in thres_min:\n",
    "        print(tmin,\" 分以内に到達できる施設\")\n",
    "        print(row[ row.astype(float)/walk_speed< tmin ] )\n",
    "        fac_reachable=row.astype(float)/walk_speed< tmin\n",
    "        print(\"fac:\",fac_reachable)\n",
    "#        print(\"sum:\",row[ row.astype(float)/walk_speed< tmin ] )\n",
    "        print(\"fac reachable:\",ninomiya_evac_fac[fac_reachable])\n",
    "#        print(\"cumsum:\",ninomiya_evac_fac[fac_reachable]['ninzu'].sum())\n",
    "        #row['cum_cap'+str(tmin)]=ninomiya_evac_fac[fac_reachable]['ninzu'].sum()\n",
    "        print(\"\")\n",
    "#print(ku_dist)        "
   ]
  },
  {
   "cell_type": "code",
   "execution_count": null,
   "id": "17ab1d62",
   "metadata": {},
   "outputs": [],
   "source": []
  }
 ],
 "metadata": {
  "kernelspec": {
   "display_name": "Python 3",
   "language": "python",
   "name": "python3"
  },
  "language_info": {
   "codemirror_mode": {
    "name": "ipython",
    "version": 3
   },
   "file_extension": ".py",
   "mimetype": "text/x-python",
   "name": "python",
   "nbconvert_exporter": "python",
   "pygments_lexer": "ipython3",
   "version": "3.9.4"
  }
 },
 "nbformat": 4,
 "nbformat_minor": 5
}
